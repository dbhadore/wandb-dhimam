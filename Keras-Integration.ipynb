{
 "cells": [
  {
   "cell_type": "code",
   "execution_count": 1,
   "id": "46f6d770",
   "metadata": {},
   "outputs": [],
   "source": [
    "import tensorflow as tf\n",
    "from tensorflow import keras\n",
    "from tensorflow.keras.datasets import cifar10\n",
    "\n",
    "import os\n",
    "import numpy as np\n",
    "import pandas as pd\n",
    "import matplotlib.pyplot as plt\n",
    "\n",
    "%matplotlib inline"
   ]
  },
  {
   "cell_type": "code",
   "execution_count": 2,
   "id": "994188ad",
   "metadata": {},
   "outputs": [],
   "source": [
    "%%capture\n",
    "!pip install wandb"
   ]
  },
  {
   "cell_type": "code",
   "execution_count": 3,
   "id": "a1a47e2e",
   "metadata": {},
   "outputs": [
    {
     "name": "stderr",
     "output_type": "stream",
     "text": [
      "wandb: Currently logged in as: dbhadore (use `wandb login --relogin` to force relogin)\n"
     ]
    },
    {
     "data": {
      "text/plain": [
       "True"
      ]
     },
     "execution_count": 3,
     "metadata": {},
     "output_type": "execute_result"
    }
   ],
   "source": [
    "import wandb\n",
    "from wandb.keras import WandbCallback\n",
    "\n",
    "wandb.login()"
   ]
  },
  {
   "cell_type": "code",
   "execution_count": 4,
   "id": "f537d16d",
   "metadata": {},
   "outputs": [
    {
     "name": "stdout",
     "output_type": "stream",
     "text": [
      "Downloading data from https://www.cs.toronto.edu/~kriz/cifar-10-python.tar.gz\n",
      "170500096/170498071 [==============================] - 19s 0us/step\n",
      "Shape of x_train:  (50000, 32, 32, 3)\n",
      "Shape of y_train:  (50000, 1)\n",
      "Shape of x_test:  (10000, 32, 32, 3)\n",
      "Shape of y_test:  (10000, 1)\n"
     ]
    }
   ],
   "source": [
    "(x_train, y_train), (x_test, y_test) = cifar10.load_data()\n",
    "x_train = x_train/255.\n",
    "x_test = x_test/255.\n",
    "\n",
    "CLASS_NAMES = [\"airplane\", \"automobile\", \"bird\", \"cat\", \"deer\", \"dog\", \"frog\", \"horse\", \"ship\", \"truck\"]\n",
    "\n",
    "print('Shape of x_train: ', x_train.shape)\n",
    "print('Shape of y_train: ', y_train.shape)\n",
    "print('Shape of x_test: ', x_test.shape)\n",
    "print('Shape of y_test: ', y_test.shape)"
   ]
  },
  {
   "cell_type": "code",
   "execution_count": 5,
   "id": "5b85f7a9",
   "metadata": {},
   "outputs": [],
   "source": [
    "def Model():\n",
    "    inputs = keras.layers.Input(shape=(32, 32, 3))\n",
    "\n",
    "    x = keras.layers.Conv2D(filters=32, kernel_size=(3,3), activation='relu')(inputs)\n",
    "    x = keras.layers.Conv2D(filters=32, kernel_size=(3,3), activation='relu')(x)\n",
    "    x = keras.layers.MaxPooling2D(pool_size=2)(x)\n",
    "\n",
    "    x = keras.layers.Conv2D(filters=32, kernel_size=(3,3), activation='relu')(x)\n",
    "    x = keras.layers.Conv2D(filters=32, kernel_size=(3,3), activation='relu')(x)\n",
    "\n",
    "    x = keras.layers.GlobalAveragePooling2D()(x)\n",
    "\n",
    "    x = keras.layers.Dense(128, activation='relu')(x)\n",
    "    x = keras.layers.Dense(32, activation='relu')(x)\n",
    "\n",
    "    outputs = keras.layers.Dense(len(CLASS_NAMES), activation='softmax')(x)\n",
    "\n",
    "    return keras.models.Model(inputs=inputs, outputs=outputs)"
   ]
  },
  {
   "cell_type": "code",
   "execution_count": 6,
   "id": "b400afc5",
   "metadata": {},
   "outputs": [],
   "source": [
    "def train():\n",
    "    # Specify the hyperparameter to be tuned along with\n",
    "    # an initial value\n",
    "    config_defaults = {\n",
    "        'batch_size': 8,\n",
    "        'learning_rate': 0.01\n",
    "    }\n",
    "\n",
    "    # Initialize wandb with a sample project name\n",
    "    wandb.init(config=config_defaults)\n",
    "\n",
    "    # Specify the other hyperparameters to the configuration, if any\n",
    "    wandb.config.epochs = 25\n",
    "\n",
    "    # Prepare trainloader\n",
    "    trainloader = tf.data.Dataset.from_tensor_slices((x_train, y_train))\n",
    "    trainloader = trainloader.shuffle(1024).batch(wandb.config.batch_size).prefetch(tf.data.experimental.AUTOTUNE)\n",
    "    # prepare testloader \n",
    "    testloader = tf.data.Dataset.from_tensor_slices((x_test, y_test))\n",
    "    testloader = testloader.batch(wandb.config.batch_size).prefetch(tf.data.experimental.AUTOTUNE)\n",
    "\n",
    "    # Iniialize model with hyperparameters\n",
    "    keras.backend.clear_session()\n",
    "    model = Model()\n",
    "    \n",
    "    # Compile the model\n",
    "    opt = tf.keras.optimizers.Adam(learning_rate=wandb.config.learning_rate) # optimizer with different learning rate specified by config\n",
    "    model.compile(opt, 'sparse_categorical_crossentropy', metrics=['acc'])\n",
    "    \n",
    "    # Train the model\n",
    "    _ = model.fit(trainloader,\n",
    "                  epochs=wandb.config.epochs, \n",
    "                  validation_data=testloader,\n",
    "                  callbacks=[WandbCallback()]) # WandbCallback to automatically track metrics\n",
    "                            \n",
    "    # Evaluate    \n",
    "    loss, accuracy = model.evaluate(testloader, callbacks=[WandbCallback()])\n",
    "    print('Test Error Rate: ', round((1-accuracy)*100, 2))\n",
    "    wandb.log({'Test Error Rate': round((1-accuracy)*100, 2)}) # wandb.log to track custom metrics"
   ]
  },
  {
   "cell_type": "code",
   "execution_count": 7,
   "id": "8ef30f31",
   "metadata": {},
   "outputs": [],
   "source": [
    "sweep_config = {\n",
    "  'method': 'bayes', \n",
    "  'metric': {\n",
    "      'name': 'val_loss',\n",
    "      'goal': 'minimize'\n",
    "  },\n",
    "  'early_terminate':{\n",
    "      'type': 'hyperband',\n",
    "      'min_iter': 5\n",
    "  },\n",
    "  'parameters': {\n",
    "      'batch_size': {\n",
    "          'values': [8, 16, 32, 64, 128, 256]\n",
    "      },\n",
    "      'learning_rate':{\n",
    "          'values': [0.01, 0.005, 0.001, 0.0005, 0.0001]\n",
    "      }\n",
    "  }\n",
    "}"
   ]
  },
  {
   "cell_type": "code",
   "execution_count": null,
   "id": "e8f6ebb9",
   "metadata": {},
   "outputs": [
    {
     "name": "stdout",
     "output_type": "stream",
     "text": [
      "Create sweep with ID: 480xscrq\n",
      "Sweep URL: https://wandb.ai/dbhadore/my-keras-integration-dhiman/sweeps/480xscrq\n"
     ]
    },
    {
     "name": "stderr",
     "output_type": "stream",
     "text": [
      "wandb: Agent Starting Run: sslcaa6z with config:\n",
      "wandb: \tbatch_size: 8\n",
      "wandb: \tlearning_rate: 0.001\n"
     ]
    },
    {
     "data": {
      "text/html": [
       "\n",
       "                Tracking run with wandb version 0.10.31<br/>\n",
       "                Syncing run <strong style=\"color:#cdcd00\">worthy-sweep-1</strong> to <a href=\"https://wandb.ai\" target=\"_blank\">Weights & Biases</a> <a href=\"https://docs.wandb.com/integrations/jupyter.html\" target=\"_blank\">(Documentation)</a>.<br/>\n",
       "                Project page: <a href=\"https://wandb.ai/dbhadore/my-keras-integration-dhiman\" target=\"_blank\">https://wandb.ai/dbhadore/my-keras-integration-dhiman</a><br/>\n",
       "                Sweep page: <a href=\"https://wandb.ai/dbhadore/my-keras-integration-dhiman/sweeps/480xscrq\" target=\"_blank\">https://wandb.ai/dbhadore/my-keras-integration-dhiman/sweeps/480xscrq</a><br/>\n",
       "Run page: <a href=\"https://wandb.ai/dbhadore/my-keras-integration-dhiman/runs/sslcaa6z\" target=\"_blank\">https://wandb.ai/dbhadore/my-keras-integration-dhiman/runs/sslcaa6z</a><br/>\n",
       "                Run data is saved locally in <code>C:\\code\\wandb\\wandb\\run-20210529_122443-sslcaa6z</code><br/><br/>\n",
       "            "
      ],
      "text/plain": [
       "<IPython.core.display.HTML object>"
      ]
     },
     "metadata": {},
     "output_type": "display_data"
    },
    {
     "name": "stdout",
     "output_type": "stream",
     "text": [
      "Epoch 1/25\n",
      "6250/6250 [==============================] - 77s 12ms/step - loss: 1.7001 - acc: 0.3570 - val_loss: 1.4078 - val_acc: 0.4766\n",
      "Epoch 2/25\n",
      "6250/6250 [==============================] - 81s 13ms/step - loss: 1.3327 - acc: 0.5152 - val_loss: 1.2846 - val_acc: 0.5330\n",
      "Epoch 3/25\n",
      "6250/6250 [==============================] - 83s 13ms/step - loss: 1.1682 - acc: 0.5757 - val_loss: 1.1445 - val_acc: 0.5888\n",
      "Epoch 4/25\n",
      "6250/6250 [==============================] - 90s 14ms/step - loss: 1.0624 - acc: 0.6176 - val_loss: 1.0620 - val_acc: 0.6128\n",
      "Epoch 5/25\n",
      "6250/6250 [==============================] - 88s 14ms/step - loss: 0.9842 - acc: 0.6486 - val_loss: 0.9933 - val_acc: 0.6429\n",
      "Epoch 6/25\n",
      "6250/6250 [==============================] - 89s 14ms/step - loss: 0.9244 - acc: 0.6711 - val_loss: 0.9703 - val_acc: 0.6590\n",
      "Epoch 7/25\n",
      "6250/6250 [==============================] - 89s 14ms/step - loss: 0.8784 - acc: 0.6886 - val_loss: 1.1025 - val_acc: 0.6275\n",
      "Epoch 8/25\n",
      "6250/6250 [==============================] - 88s 14ms/step - loss: 0.8380 - acc: 0.7022 - val_loss: 0.9024 - val_acc: 0.6799\n",
      "Epoch 9/25\n",
      "6250/6250 [==============================] - 88s 14ms/step - loss: 0.8042 - acc: 0.7146 - val_loss: 0.8986 - val_acc: 0.6845\n",
      "Epoch 10/25\n",
      "6250/6250 [==============================] - 88s 14ms/step - loss: 0.7778 - acc: 0.7233 - val_loss: 0.8782 - val_acc: 0.6915\n",
      "Epoch 11/25\n",
      "6250/6250 [==============================] - 88s 14ms/step - loss: 0.7528 - acc: 0.7321 - val_loss: 0.8576 - val_acc: 0.7055\n",
      "Epoch 12/25\n",
      "6250/6250 [==============================] - 88s 14ms/step - loss: 0.7310 - acc: 0.7420 - val_loss: 0.8423 - val_acc: 0.7112\n",
      "Epoch 13/25\n",
      "6250/6250 [==============================] - 88s 14ms/step - loss: 0.7122 - acc: 0.7482 - val_loss: 0.8227 - val_acc: 0.7187\n",
      "Epoch 14/25\n",
      "6250/6250 [==============================] - 89s 14ms/step - loss: 0.6939 - acc: 0.7546 - val_loss: 0.8492 - val_acc: 0.7140\n",
      "Epoch 15/25\n",
      "6250/6250 [==============================] - 2560s 410ms/step - loss: 0.6795 - acc: 0.7595 - val_loss: 0.8407 - val_acc: 0.7012\n",
      "Epoch 16/25\n",
      "6250/6250 [==============================] - 76s 12ms/step - loss: 0.6621 - acc: 0.7672 - val_loss: 0.8775 - val_acc: 0.7046\n",
      "Epoch 17/25\n",
      "6250/6250 [==============================] - 76s 12ms/step - loss: 0.6535 - acc: 0.7686 - val_loss: 0.8545 - val_acc: 0.7107\n",
      "Epoch 18/25\n",
      "6250/6250 [==============================] - 79s 13ms/step - loss: 0.6377 - acc: 0.7745 - val_loss: 0.8061 - val_acc: 0.7239\n",
      "Epoch 19/25\n",
      "6250/6250 [==============================] - 80s 13ms/step - loss: 0.6309 - acc: 0.7768 - val_loss: 0.8015 - val_acc: 0.7276\n",
      "Epoch 20/25\n",
      "6250/6250 [==============================] - 85s 14ms/step - loss: 0.6179 - acc: 0.7812 - val_loss: 0.8133 - val_acc: 0.7242\n",
      "Epoch 21/25\n",
      "6250/6250 [==============================] - 82s 13ms/step - loss: 0.6043 - acc: 0.7863 - val_loss: 0.8380 - val_acc: 0.7227\n",
      "Epoch 22/25\n",
      "6250/6250 [==============================] - 85s 14ms/step - loss: 0.5979 - acc: 0.7877 - val_loss: 0.8702 - val_acc: 0.7189\n",
      "Epoch 23/25\n",
      "6250/6250 [==============================] - 90s 14ms/step - loss: 0.5858 - acc: 0.7926 - val_loss: 0.8222 - val_acc: 0.7287\n",
      "Epoch 24/25\n",
      "6250/6250 [==============================] - 95s 15ms/step - loss: 0.5775 - acc: 0.7954 - val_loss: 0.8545 - val_acc: 0.7300\n",
      "Epoch 25/25\n",
      "6250/6250 [==============================] - 93s 15ms/step - loss: 0.5677 - acc: 0.8014 - val_loss: 0.8286 - val_acc: 0.7267\n",
      "1250/1250 [==============================] - 5s 4ms/step - loss: 0.8286 - acc: 0.7267\n",
      "Test Error Rate:  27.33\n"
     ]
    },
    {
     "data": {
      "text/html": [
       "<br/>Waiting for W&B process to finish, PID 37184<br/>Program ended successfully."
      ],
      "text/plain": [
       "<IPython.core.display.HTML object>"
      ]
     },
     "metadata": {},
     "output_type": "display_data"
    },
    {
     "data": {
      "application/vnd.jupyter.widget-view+json": {
       "model_id": "",
       "version_major": 2,
       "version_minor": 0
      },
      "text/plain": [
       "VBox(children=(Label(value=' 0.49MB of 0.49MB uploaded (0.00MB deduped)\\r'), FloatProgress(value=1.0, max=1.0)…"
      ]
     },
     "metadata": {},
     "output_type": "display_data"
    },
    {
     "data": {
      "text/html": [
       "Find user logs for this run at: <code>C:\\code\\wandb\\wandb\\run-20210529_122443-sslcaa6z\\logs\\debug.log</code>"
      ],
      "text/plain": [
       "<IPython.core.display.HTML object>"
      ]
     },
     "metadata": {},
     "output_type": "display_data"
    },
    {
     "data": {
      "text/html": [
       "Find internal logs for this run at: <code>C:\\code\\wandb\\wandb\\run-20210529_122443-sslcaa6z\\logs\\debug-internal.log</code>"
      ],
      "text/plain": [
       "<IPython.core.display.HTML object>"
      ]
     },
     "metadata": {},
     "output_type": "display_data"
    },
    {
     "data": {
      "text/html": [
       "<h3>Run summary:</h3><br/><style>\n",
       "    table.wandb td:nth-child(1) { padding: 0 10px; text-align: right }\n",
       "    </style><table class=\"wandb\">\n",
       "<tr><td>epoch</td><td>24</td></tr><tr><td>loss</td><td>0.56775</td></tr><tr><td>acc</td><td>0.80138</td></tr><tr><td>val_loss</td><td>0.82863</td></tr><tr><td>val_acc</td><td>0.7267</td></tr><tr><td>_runtime</td><td>4640</td></tr><tr><td>_timestamp</td><td>1622275923</td></tr><tr><td>_step</td><td>25</td></tr><tr><td>best_val_loss</td><td>0.80147</td></tr><tr><td>best_epoch</td><td>18</td></tr><tr><td>Test Error Rate</td><td>27.33</td></tr></table>"
      ],
      "text/plain": [
       "<IPython.core.display.HTML object>"
      ]
     },
     "metadata": {},
     "output_type": "display_data"
    },
    {
     "data": {
      "text/html": [
       "<h3>Run history:</h3><br/><style>\n",
       "    table.wandb td:nth-child(1) { padding: 0 10px; text-align: right }\n",
       "    </style><table class=\"wandb\">\n",
       "<tr><td>epoch</td><td>▁▁▂▂▂▂▃▃▃▄▄▄▅▅▅▅▆▆▆▇▇▇▇██</td></tr><tr><td>loss</td><td>█▆▅▄▄▃▃▃▂▂▂▂▂▂▂▂▂▁▁▁▁▁▁▁▁</td></tr><tr><td>acc</td><td>▁▃▄▅▆▆▆▆▇▇▇▇▇▇▇▇▇████████</td></tr><tr><td>val_loss</td><td>█▇▅▄▃▃▄▂▂▂▂▁▁▂▁▂▂▁▁▁▁▂▁▂▁</td></tr><tr><td>val_acc</td><td>▁▃▄▅▆▆▅▇▇▇▇▇██▇▇▇████████</td></tr><tr><td>_runtime</td><td>▁▁▁▁▂▂▂▂▂▂▂▂▃▃▇▇▇▇▇▇▇█████</td></tr><tr><td>_timestamp</td><td>▁▁▁▁▂▂▂▂▂▂▂▂▃▃▇▇▇▇▇▇▇█████</td></tr><tr><td>_step</td><td>▁▁▂▂▂▂▃▃▃▄▄▄▄▅▅▅▅▆▆▆▇▇▇▇██</td></tr><tr><td>Test Error Rate</td><td>▁</td></tr></table><br/>"
      ],
      "text/plain": [
       "<IPython.core.display.HTML object>"
      ]
     },
     "metadata": {},
     "output_type": "display_data"
    },
    {
     "data": {
      "text/html": [
       "Synced 5 W&B file(s), 1 media file(s), 0 artifact file(s) and 1 other file(s)"
      ],
      "text/plain": [
       "<IPython.core.display.HTML object>"
      ]
     },
     "metadata": {},
     "output_type": "display_data"
    },
    {
     "data": {
      "text/html": [
       "\n",
       "                    <br/>Synced <strong style=\"color:#cdcd00\">worthy-sweep-1</strong>: <a href=\"https://wandb.ai/dbhadore/my-keras-integration-dhiman/runs/sslcaa6z\" target=\"_blank\">https://wandb.ai/dbhadore/my-keras-integration-dhiman/runs/sslcaa6z</a><br/>\n",
       "                "
      ],
      "text/plain": [
       "<IPython.core.display.HTML object>"
      ]
     },
     "metadata": {},
     "output_type": "display_data"
    },
    {
     "name": "stderr",
     "output_type": "stream",
     "text": [
      "wandb: Agent Starting Run: 0hful0ni with config:\n",
      "wandb: \tbatch_size: 128\n",
      "wandb: \tlearning_rate: 0.0005\n"
     ]
    },
    {
     "data": {
      "text/html": [
       "\n",
       "                Tracking run with wandb version 0.10.31<br/>\n",
       "                Syncing run <strong style=\"color:#cdcd00\">colorful-sweep-2</strong> to <a href=\"https://wandb.ai\" target=\"_blank\">Weights & Biases</a> <a href=\"https://docs.wandb.com/integrations/jupyter.html\" target=\"_blank\">(Documentation)</a>.<br/>\n",
       "                Project page: <a href=\"https://wandb.ai/dbhadore/my-keras-integration-dhiman\" target=\"_blank\">https://wandb.ai/dbhadore/my-keras-integration-dhiman</a><br/>\n",
       "                Sweep page: <a href=\"https://wandb.ai/dbhadore/my-keras-integration-dhiman/sweeps/480xscrq\" target=\"_blank\">https://wandb.ai/dbhadore/my-keras-integration-dhiman/sweeps/480xscrq</a><br/>\n",
       "Run page: <a href=\"https://wandb.ai/dbhadore/my-keras-integration-dhiman/runs/0hful0ni\" target=\"_blank\">https://wandb.ai/dbhadore/my-keras-integration-dhiman/runs/0hful0ni</a><br/>\n",
       "                Run data is saved locally in <code>C:\\code\\wandb\\wandb\\run-20210529_134208-0hful0ni</code><br/><br/>\n",
       "            "
      ],
      "text/plain": [
       "<IPython.core.display.HTML object>"
      ]
     },
     "metadata": {},
     "output_type": "display_data"
    },
    {
     "name": "stdout",
     "output_type": "stream",
     "text": [
      "Epoch 1/25\n",
      "391/391 [==============================] - 65s 164ms/step - loss: 1.9747 - acc: 0.2354 - val_loss: 1.8102 - val_acc: 0.2930\n",
      "Epoch 2/25\n",
      "391/391 [==============================] - 62s 159ms/step - loss: 1.7780 - acc: 0.2997 - val_loss: 1.7338 - val_acc: 0.3308\n",
      "Epoch 3/25\n",
      "391/391 [==============================] - 60s 154ms/step - loss: 1.6958 - acc: 0.3458 - val_loss: 1.6421 - val_acc: 0.3756\n",
      "Epoch 4/25\n",
      "391/391 [==============================] - 60s 152ms/step - loss: 1.6119 - acc: 0.3875 - val_loss: 1.6835 - val_acc: 0.3643\n",
      "Epoch 5/25\n",
      "391/391 [==============================] - 59s 151ms/step - loss: 1.5519 - acc: 0.4173 - val_loss: 1.5221 - val_acc: 0.4308\n",
      "Epoch 6/25\n",
      "391/391 [==============================] - 60s 153ms/step - loss: 1.4923 - acc: 0.4449 - val_loss: 1.4428 - val_acc: 0.4586\n",
      "Epoch 7/25\n",
      "312/391 [======================>.......] - ETA: 11s - loss: 1.4502 - acc: 0.4629"
     ]
    },
    {
     "data": {
      "text/html": [
       "<br/>Waiting for W&B process to finish, PID 13932<br/>Program failed with code 1.  Press ctrl-c to abort syncing."
      ],
      "text/plain": [
       "<IPython.core.display.HTML object>"
      ]
     },
     "metadata": {},
     "output_type": "display_data"
    },
    {
     "data": {
      "application/vnd.jupyter.widget-view+json": {
       "model_id": "",
       "version_major": 2,
       "version_minor": 0
      },
      "text/plain": [
       "VBox(children=(Label(value=' 0.49MB of 0.49MB uploaded (0.00MB deduped)\\r'), FloatProgress(value=1.0, max=1.0)…"
      ]
     },
     "metadata": {},
     "output_type": "display_data"
    },
    {
     "data": {
      "text/html": [
       "Find user logs for this run at: <code>C:\\code\\wandb\\wandb\\run-20210529_134208-0hful0ni\\logs\\debug.log</code>"
      ],
      "text/plain": [
       "<IPython.core.display.HTML object>"
      ]
     },
     "metadata": {},
     "output_type": "display_data"
    },
    {
     "data": {
      "text/html": [
       "Find internal logs for this run at: <code>C:\\code\\wandb\\wandb\\run-20210529_134208-0hful0ni\\logs\\debug-internal.log</code>"
      ],
      "text/plain": [
       "<IPython.core.display.HTML object>"
      ]
     },
     "metadata": {},
     "output_type": "display_data"
    },
    {
     "data": {
      "text/html": [
       "<h3>Run summary:</h3><br/><style>\n",
       "    table.wandb td:nth-child(1) { padding: 0 10px; text-align: right }\n",
       "    </style><table class=\"wandb\">\n",
       "<tr><td>epoch</td><td>5</td></tr><tr><td>loss</td><td>1.49229</td></tr><tr><td>acc</td><td>0.44486</td></tr><tr><td>val_loss</td><td>1.44278</td></tr><tr><td>val_acc</td><td>0.4586</td></tr><tr><td>_runtime</td><td>376</td></tr><tr><td>_timestamp</td><td>1622276305</td></tr><tr><td>_step</td><td>5</td></tr><tr><td>best_val_loss</td><td>1.44278</td></tr><tr><td>best_epoch</td><td>5</td></tr></table>"
      ],
      "text/plain": [
       "<IPython.core.display.HTML object>"
      ]
     },
     "metadata": {},
     "output_type": "display_data"
    },
    {
     "data": {
      "text/html": [
       "<h3>Run history:</h3><br/><style>\n",
       "    table.wandb td:nth-child(1) { padding: 0 10px; text-align: right }\n",
       "    </style><table class=\"wandb\">\n",
       "<tr><td>epoch</td><td>▁▂▄▅▇█</td></tr><tr><td>loss</td><td>█▅▄▃▂▁</td></tr><tr><td>acc</td><td>▁▃▅▆▇█</td></tr><tr><td>val_loss</td><td>█▇▅▆▃▁</td></tr><tr><td>val_acc</td><td>▁▃▄▄▇█</td></tr><tr><td>_runtime</td><td>▁▂▄▅▇█</td></tr><tr><td>_timestamp</td><td>▁▂▄▅▇█</td></tr><tr><td>_step</td><td>▁▂▄▅▇█</td></tr></table><br/>"
      ],
      "text/plain": [
       "<IPython.core.display.HTML object>"
      ]
     },
     "metadata": {},
     "output_type": "display_data"
    },
    {
     "data": {
      "text/html": [
       "Synced 5 W&B file(s), 1 media file(s), 0 artifact file(s) and 1 other file(s)"
      ],
      "text/plain": [
       "<IPython.core.display.HTML object>"
      ]
     },
     "metadata": {},
     "output_type": "display_data"
    },
    {
     "data": {
      "text/html": [
       "\n",
       "                    <br/>Synced <strong style=\"color:#cdcd00\">colorful-sweep-2</strong>: <a href=\"https://wandb.ai/dbhadore/my-keras-integration-dhiman/runs/0hful0ni\" target=\"_blank\">https://wandb.ai/dbhadore/my-keras-integration-dhiman/runs/0hful0ni</a><br/>\n",
       "                "
      ],
      "text/plain": [
       "<IPython.core.display.HTML object>"
      ]
     },
     "metadata": {},
     "output_type": "display_data"
    },
    {
     "name": "stderr",
     "output_type": "stream",
     "text": [
      "wandb: Agent Starting Run: s4ny2qz1 with config:\n",
      "wandb: \tbatch_size: 16\n",
      "wandb: \tlearning_rate: 0.01\n"
     ]
    },
    {
     "data": {
      "text/html": [
       "\n",
       "                Tracking run with wandb version 0.10.31<br/>\n",
       "                Syncing run <strong style=\"color:#cdcd00\">absurd-sweep-3</strong> to <a href=\"https://wandb.ai\" target=\"_blank\">Weights & Biases</a> <a href=\"https://docs.wandb.com/integrations/jupyter.html\" target=\"_blank\">(Documentation)</a>.<br/>\n",
       "                Project page: <a href=\"https://wandb.ai/dbhadore/my-keras-integration-dhiman\" target=\"_blank\">https://wandb.ai/dbhadore/my-keras-integration-dhiman</a><br/>\n",
       "                Sweep page: <a href=\"https://wandb.ai/dbhadore/my-keras-integration-dhiman/sweeps/480xscrq\" target=\"_blank\">https://wandb.ai/dbhadore/my-keras-integration-dhiman/sweeps/480xscrq</a><br/>\n",
       "Run page: <a href=\"https://wandb.ai/dbhadore/my-keras-integration-dhiman/runs/s4ny2qz1\" target=\"_blank\">https://wandb.ai/dbhadore/my-keras-integration-dhiman/runs/s4ny2qz1</a><br/>\n",
       "                Run data is saved locally in <code>C:\\code\\wandb\\wandb\\run-20210529_134918-s4ny2qz1</code><br/><br/>\n",
       "            "
      ],
      "text/plain": [
       "<IPython.core.display.HTML object>"
      ]
     },
     "metadata": {},
     "output_type": "display_data"
    },
    {
     "name": "stdout",
     "output_type": "stream",
     "text": [
      "Epoch 1/25\n",
      "3125/3125 [==============================] - 79s 25ms/step - loss: 2.3046 - acc: 0.0966 - val_loss: 2.3050 - val_acc: 0.1000\n",
      "Epoch 2/25\n",
      "3125/3125 [==============================] - 78s 25ms/step - loss: 2.3046 - acc: 0.0984 - val_loss: 2.3045 - val_acc: 0.1000\n",
      "Epoch 3/25\n",
      "3125/3125 [==============================] - 78s 25ms/step - loss: 2.3048 - acc: 0.0967 - val_loss: 2.3034 - val_acc: 0.1000\n",
      "Epoch 4/25\n",
      "3125/3125 [==============================] - 78s 25ms/step - loss: 2.3045 - acc: 0.1003 - val_loss: 2.3045 - val_acc: 0.1000\n",
      "Epoch 5/25\n",
      "3125/3125 [==============================] - 78s 25ms/step - loss: 2.3046 - acc: 0.1012 - val_loss: 2.3058 - val_acc: 0.1000\n",
      "Epoch 6/25\n",
      "3125/3125 [==============================] - 78s 25ms/step - loss: 2.3048 - acc: 0.0977 - val_loss: 2.3038 - val_acc: 0.1000\n",
      "Epoch 7/25\n",
      "3125/3125 [==============================] - 78s 25ms/step - loss: 2.3046 - acc: 0.0977 - val_loss: 2.3052 - val_acc: 0.1000\n",
      "Epoch 8/25\n",
      "3125/3125 [==============================] - 78s 25ms/step - loss: 2.3046 - acc: 0.0987 - val_loss: 2.3056 - val_acc: 0.1000\n",
      "Epoch 9/25\n",
      "3125/3125 [==============================] - ETA: 0s - loss: 2.3045 - acc: 0.0997"
     ]
    },
    {
     "data": {
      "text/html": [
       "<br/>Waiting for W&B process to finish, PID 29620<br/>Program failed with code 1.  Press ctrl-c to abort syncing."
      ],
      "text/plain": [
       "<IPython.core.display.HTML object>"
      ]
     },
     "metadata": {},
     "output_type": "display_data"
    },
    {
     "data": {
      "application/vnd.jupyter.widget-view+json": {
       "model_id": "",
       "version_major": 2,
       "version_minor": 0
      },
      "text/plain": [
       "VBox(children=(Label(value=' 0.49MB of 0.49MB uploaded (0.00MB deduped)\\r'), FloatProgress(value=1.0, max=1.0)…"
      ]
     },
     "metadata": {},
     "output_type": "display_data"
    },
    {
     "data": {
      "text/html": [
       "Find user logs for this run at: <code>C:\\code\\wandb\\wandb\\run-20210529_134918-s4ny2qz1\\logs\\debug.log</code>"
      ],
      "text/plain": [
       "<IPython.core.display.HTML object>"
      ]
     },
     "metadata": {},
     "output_type": "display_data"
    },
    {
     "data": {
      "text/html": [
       "Find internal logs for this run at: <code>C:\\code\\wandb\\wandb\\run-20210529_134918-s4ny2qz1\\logs\\debug-internal.log</code>"
      ],
      "text/plain": [
       "<IPython.core.display.HTML object>"
      ]
     },
     "metadata": {},
     "output_type": "display_data"
    },
    {
     "data": {
      "text/html": [
       "<h3>Run summary:</h3><br/><style>\n",
       "    table.wandb td:nth-child(1) { padding: 0 10px; text-align: right }\n",
       "    </style><table class=\"wandb\">\n",
       "<tr><td>epoch</td><td>7</td></tr><tr><td>loss</td><td>2.30456</td></tr><tr><td>acc</td><td>0.09874</td></tr><tr><td>val_loss</td><td>2.30563</td></tr><tr><td>val_acc</td><td>0.1</td></tr><tr><td>_runtime</td><td>636</td></tr><tr><td>_timestamp</td><td>1622276994</td></tr><tr><td>_step</td><td>7</td></tr><tr><td>best_val_loss</td><td>2.30336</td></tr><tr><td>best_epoch</td><td>2</td></tr></table>"
      ],
      "text/plain": [
       "<IPython.core.display.HTML object>"
      ]
     },
     "metadata": {},
     "output_type": "display_data"
    },
    {
     "data": {
      "text/html": [
       "<h3>Run history:</h3><br/><style>\n",
       "    table.wandb td:nth-child(1) { padding: 0 10px; text-align: right }\n",
       "    </style><table class=\"wandb\">\n",
       "<tr><td>epoch</td><td>▁▂▃▄▅▆▇█</td></tr><tr><td>loss</td><td>▄▄▇▁▄█▄▃</td></tr><tr><td>acc</td><td>▁▄▁▇█▃▃▄</td></tr><tr><td>val_loss</td><td>▆▄▁▄█▂▆▇</td></tr><tr><td>val_acc</td><td>▁▁▁▁▁▁▁▁</td></tr><tr><td>_runtime</td><td>▁▂▃▄▅▆▇█</td></tr><tr><td>_timestamp</td><td>▁▂▃▄▅▆▇█</td></tr><tr><td>_step</td><td>▁▂▃▄▅▆▇█</td></tr></table><br/>"
      ],
      "text/plain": [
       "<IPython.core.display.HTML object>"
      ]
     },
     "metadata": {},
     "output_type": "display_data"
    },
    {
     "data": {
      "text/html": [
       "Synced 5 W&B file(s), 1 media file(s), 0 artifact file(s) and 1 other file(s)"
      ],
      "text/plain": [
       "<IPython.core.display.HTML object>"
      ]
     },
     "metadata": {},
     "output_type": "display_data"
    },
    {
     "data": {
      "text/html": [
       "\n",
       "                    <br/>Synced <strong style=\"color:#cdcd00\">absurd-sweep-3</strong>: <a href=\"https://wandb.ai/dbhadore/my-keras-integration-dhiman/runs/s4ny2qz1\" target=\"_blank\">https://wandb.ai/dbhadore/my-keras-integration-dhiman/runs/s4ny2qz1</a><br/>\n",
       "                "
      ],
      "text/plain": [
       "<IPython.core.display.HTML object>"
      ]
     },
     "metadata": {},
     "output_type": "display_data"
    },
    {
     "name": "stderr",
     "output_type": "stream",
     "text": [
      "wandb: Agent Starting Run: 2qmyu2x8 with config:\n",
      "wandb: \tbatch_size: 8\n",
      "wandb: \tlearning_rate: 0.01\n"
     ]
    },
    {
     "data": {
      "text/html": [
       "\n",
       "                Tracking run with wandb version 0.10.31<br/>\n",
       "                Syncing run <strong style=\"color:#cdcd00\">eager-sweep-4</strong> to <a href=\"https://wandb.ai\" target=\"_blank\">Weights & Biases</a> <a href=\"https://docs.wandb.com/integrations/jupyter.html\" target=\"_blank\">(Documentation)</a>.<br/>\n",
       "                Project page: <a href=\"https://wandb.ai/dbhadore/my-keras-integration-dhiman\" target=\"_blank\">https://wandb.ai/dbhadore/my-keras-integration-dhiman</a><br/>\n",
       "                Sweep page: <a href=\"https://wandb.ai/dbhadore/my-keras-integration-dhiman/sweeps/480xscrq\" target=\"_blank\">https://wandb.ai/dbhadore/my-keras-integration-dhiman/sweeps/480xscrq</a><br/>\n",
       "Run page: <a href=\"https://wandb.ai/dbhadore/my-keras-integration-dhiman/runs/2qmyu2x8\" target=\"_blank\">https://wandb.ai/dbhadore/my-keras-integration-dhiman/runs/2qmyu2x8</a><br/>\n",
       "                Run data is saved locally in <code>C:\\code\\wandb\\wandb\\run-20210529_140118-2qmyu2x8</code><br/><br/>\n",
       "            "
      ],
      "text/plain": [
       "<IPython.core.display.HTML object>"
      ]
     },
     "metadata": {},
     "output_type": "display_data"
    },
    {
     "name": "stdout",
     "output_type": "stream",
     "text": [
      "Epoch 1/25\n",
      "6250/6250 [==============================] - 85s 14ms/step - loss: 2.3055 - acc: 0.0966 - val_loss: 2.3070 - val_acc: 0.1000\n",
      "Epoch 2/25\n",
      "6250/6250 [==============================] - 85s 14ms/step - loss: 2.3052 - acc: 0.0989 - val_loss: 2.3063 - val_acc: 0.1000\n",
      "Epoch 3/25\n",
      "6250/6250 [==============================] - 10885s 2s/step - loss: 2.3052 - acc: 0.0989 - val_loss: 2.3055 - val_acc: 0.1000\n",
      "Epoch 4/25\n",
      "6250/6250 [==============================] - 8101s 1s/step - loss: 2.3054 - acc: 0.0958 - val_loss: 2.3059 - val_acc: 0.1000\n",
      "Epoch 5/25\n",
      " 855/6250 [===>..........................] - ETA: 1:06 - loss: 2.3062 - acc: 0.0944"
     ]
    }
   ],
   "source": [
    "sweep_id = wandb.sweep(sweep_config, project=\"my-keras-integration-dhiman\")\n",
    "wandb.agent(sweep_id, function=train)"
   ]
  }
 ],
 "metadata": {
  "kernelspec": {
   "display_name": "Python 3",
   "language": "python",
   "name": "python3"
  },
  "language_info": {
   "codemirror_mode": {
    "name": "ipython",
    "version": 3
   },
   "file_extension": ".py",
   "mimetype": "text/x-python",
   "name": "python",
   "nbconvert_exporter": "python",
   "pygments_lexer": "ipython3",
   "version": "3.8.8"
  }
 },
 "nbformat": 4,
 "nbformat_minor": 5
}
